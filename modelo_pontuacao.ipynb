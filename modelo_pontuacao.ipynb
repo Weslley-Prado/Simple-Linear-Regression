{
 "cells": [
  {
   "cell_type": "code",
   "execution_count": null,
   "metadata": {},
   "outputs": [],
   "source": [
    "from sklearn.model_selection import train_test_split\n",
    "from sklearn.linear_model import LinearRegression\n",
    "from scipy.stats import shapiro, kstest, probplot\n",
    "import pandas as pandas\n",
    "import seaborn as sns\n",
    "import matplotlib as probplot\n",
    "from statsmodels.graphics.gofplots import qqplot"
   ]
  },
  {
   "cell_type": "markdown",
   "metadata": {},
   "source": [
    "### Carregar Dados ou Carga dos Dados"
   ]
  },
  {
   "cell_type": "code",
   "execution_count": null,
   "metadata": {},
   "outputs": [],
   "source": [
    "# Abrir o dataset\n",
    "df_pontuacao = pd.read_csv(\"./datasets/pontuacao_teste.csv\")"
   ]
  },
  {
   "cell_type": "code",
   "execution_count": null,
   "metadata": {},
   "outputs": [],
   "source": [
    "# Checar a estrutura\n",
    "# horas_estudo = variável independente\n",
    "# pontuacao_estudo = variável dependente, que é a que se quer prever\n",
    "df_pontuacao.info()"
   ]
  },
  {
   "cell_type": "code",
   "execution_count": null,
   "metadata": {},
   "outputs": [],
   "source": [
    "# Visualizar dados início\n",
    "df_pontuacao.head(10)"
   ]
  },
  {
   "cell_type": "code",
   "execution_count": null,
   "metadata": {},
   "outputs": [],
   "source": [
    "# Visualizar dados final\n",
    "df_pontuacao.tail(10)"
   ]
  },
  {
   "cell_type": "markdown",
   "metadata": {},
   "source": [
    "### Análise Exploratória de Dados"
   ]
  },
  {
   "cell_type": "code",
   "execution_count": null,
   "metadata": {},
   "outputs": [],
   "source": [
    "# Medidas estatística das variáveis\n",
    "df_pontuacao.describe()"
   ]
  },
  {
   "cell_type": "code",
   "execution_count": null,
   "metadata": {},
   "outputs": [],
   "source": [
    "# Plot de Dispersão\n",
    "# X = horas_estido\n",
    "# y = pontuacao_teste\n",
    "sns.scatterplot(data=df_pontuacao, X=\"horas_estudo\", y=\"pontuacao_teste\")"
   ]
  },
  {
   "cell_type": "code",
   "execution_count": null,
   "metadata": {},
   "outputs": [],
   "source": [
    "# Verificar se temos outliers na variável independente\n",
    "# Plot Boxplot\n",
    "sns.boxplot(df_pontuacao, y=\"horas_estudo\")"
   ]
  },
  {
   "cell_type": "code",
   "execution_count": null,
   "metadata": {},
   "outputs": [],
   "source": [
    "# Verificar se temos outliers na variável dependente\n",
    "# Plot Boxplot\n",
    "sns.boxplot(df_pontuacao, y=\"pontuacao_teste\")"
   ]
  },
  {
   "cell_type": "code",
   "execution_count": null,
   "metadata": {},
   "outputs": [],
   "source": [
    "# Verificação Correlação - Pearson\n",
    "sns.heatmap(df_pontuacao.corr(\"pearson\"), annot=True)"
   ]
  },
  {
   "cell_type": "code",
   "execution_count": null,
   "metadata": {},
   "outputs": [],
   "source": [
    "# Verificação Correlação - Spearman\n",
    "sns.heatmap(df_pontuacao.corr(\"spearman\"), annot=True)"
   ]
  },
  {
   "cell_type": "code",
   "execution_count": null,
   "metadata": {},
   "outputs": [],
   "source": [
    "# Histograma de Variáveis\n",
    "sns.displot(df_pontuacao, x=\"horas_estudo\")\n",
    "sns.displot(df_pontuacao, x=\"pontuacao_teste\")"
   ]
  },
  {
   "cell_type": "code",
   "execution_count": null,
   "metadata": {},
   "outputs": [],
   "source": []
  }
 ],
 "metadata": {
  "language_info": {
   "name": "python"
  }
 },
 "nbformat": 4,
 "nbformat_minor": 2
}
